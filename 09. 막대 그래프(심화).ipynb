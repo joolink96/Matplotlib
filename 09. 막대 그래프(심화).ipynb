{
 "cells": [
  {
   "cell_type": "markdown",
   "id": "21afaab4",
   "metadata": {},
   "source": [
    "# 9. 막대 그래프(심화)"
   ]
  },
  {
   "cell_type": "code",
   "execution_count": 3,
   "id": "15028f15",
   "metadata": {},
   "outputs": [],
   "source": [
    "import matplotlib.pyplot as plt\n",
    "import matplotlib\n",
    "matplotlib.rcParams['font.family']='Malgun Gothic' #Windows\n",
    "matplotlib.rcParams['font.size']=15 #글자크기\n",
    "matplotlib.rcParams['axes.unicode_minus']=False #한글 폰트를 사용시, 마이너스 글자 깨지지 않도록함"
   ]
  },
  {
   "cell_type": "code",
   "execution_count": 6,
   "id": "221bb41d",
   "metadata": {},
   "outputs": [
    {
     "data": {
      "text/plain": [
       "(175.0, 195.0)"
      ]
     },
     "execution_count": 6,
     "metadata": {},
     "output_type": "execute_result"
    },
    {
     "data": {
      "image/png": "[encoded data removed]",
      "text/plain": [
       "<Figure size 432x288 with 1 Axes>"
      ]
     },
     "metadata": {
      "needs_background": "light"
     },
     "output_type": "display_data"
    }
   ],
   "source": [
    "labels=['강백호','서태웅','정대만']\n",
    "values=[190,187,184]\n",
    "\n",
    "plt.barh(labels,values) #옆으로 눕힌 막대그래프\n",
    "plt.xlim(175,195)"
   ]
  },
  {
   "cell_type": "code",
   "execution_count": 7,
   "id": "8a8dfb6d",
   "metadata": {},
   "outputs": [
    {
     "data": {
      "image/png": "[encoded data removed]",
      "text/plain": [
       "<Figure size 432x288 with 1 Axes>"
      ]
     },
     "metadata": {
      "needs_background": "light"
     },
     "output_type": "display_data"
    }
   ],
   "source": [
    "bar=plt.bar(labels,values)\n",
    "bar[0].set_hatch('/') # ////\n",
    "bar[1].set_hatch('x') # xxxx\n",
    "bar[2].set_hatch('..') #...."
   ]
  },
  {
   "cell_type": "code",
   "execution_count": 9,
   "id": "4b64779b",
   "metadata": {},
   "outputs": [
    {
     "data": {
      "image/png": "[encoded data removed]",
      "text/plain": [
       "<Figure size 432x288 with 1 Axes>"
      ]
     },
     "metadata": {
      "needs_background": "light"
     },
     "output_type": "display_data"
    }
   ],
   "source": [
    "bar=plt.bar(labels,values)\n",
    "plt.ylim(175,195)\n",
    "\n",
    "for idx,rect in enumerate(bar):\n",
    "    plt.text(idx,rect.get_height(),values[idx],ha='center',color='blue')"
   ]
  },
  {
   "cell_type": "code",
   "execution_count": null,
   "id": "9e164673",
   "metadata": {},
   "outputs": [],
   "source": []
  },
  {
   "cell_type": "code",
   "execution_count": null,
   "id": "03d3b2ec",
   "metadata": {},
   "outputs": [],
   "source": []
  },
  {
   "cell_type": "code",
   "execution_count": null,
   "id": "46f2bcae",
   "metadata": {},
   "outputs": [],
   "source": []
  },
  {
   "cell_type": "code",
   "execution_count": null,
   "id": "d016feb5",
   "metadata": {},
   "outputs": [],
   "source": []
  },
  {
   "cell_type": "code",
   "execution_count": null,
   "id": "a815beb9",
   "metadata": {},
   "outputs": [],
   "source": []
  },
  {
   "cell_type": "code",
   "execution_count": null,
   "id": "9e124758",
   "metadata": {},
   "outputs": [],
   "source": []
  },
  {
   "cell_type": "code",
   "execution_count": null,
   "id": "e1f5a369",
   "metadata": {},
   "outputs": [],
   "source": []
  },
  {
   "cell_type": "code",
   "execution_count": null,
   "id": "cd4a7a34",
   "metadata": {},
   "outputs": [],
   "source": []
  },
  {
   "cell_type": "code",
   "execution_count": null,
   "id": "e7727d24",
   "metadata": {},
   "outputs": [],
   "source": []
  },
  {
   "cell_type": "code",
   "execution_count": null,
   "id": "fdd4bf28",
   "metadata": {},
   "outputs": [],
   "source": []
  }
 ],
 "metadata": {
  "kernelspec": {
   "display_name": "Python 3 (ipykernel)",
   "language": "python",
   "name": "python3"
  },
  "language_info": {
   "codemirror_mode": {
    "name": "ipython",
    "version": 3
   },
   "file_extension": ".py",
   "mimetype": "text/x-python",
   "name": "python",
   "nbconvert_exporter": "python",
   "pygments_lexer": "ipython3",
   "version": "3.9.7"
  }
 },
 "nbformat": 4,
 "nbformat_minor": 5
}
